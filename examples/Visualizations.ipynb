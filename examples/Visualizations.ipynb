{
 "cells": [
  {
   "cell_type": "code",
   "execution_count": 18,
   "metadata": {},
   "outputs": [],
   "source": [
    "using TestImagesAdding\n",
    "using GLMakie\n",
    "using View5D\n"
   ]
  },
  {
   "cell_type": "code",
   "execution_count": 7,
   "metadata": {},
   "outputs": [],
   "source": [
    "pollen_arr = Pollen3D();"
   ]
  },
  {
   "cell_type": "code",
   "execution_count": 19,
   "metadata": {},
   "outputs": [
    {
     "name": "stderr",
     "output_type": "stream",
     "text": [
      "┌ Info: Initializing JavaCall with classpath\n",
      "│   JavaCall.getClassPath() = C:\\Users\\ho82nat\\.julia\\artifacts\\dd8217b7552770902d20c54f03b155f114e864b5\\View5D_v2.5.2.jar\n",
      "└ @ View5D C:\\Users\\ho82nat\\.julia\\packages\\View5D\\dy2u2\\src\\viewer_core.jl:1422\n"
     ]
    },
    {
     "name": "stdout",
     "output_type": "stream",
     "text": [
      "pollen_arr = JavaCall.JavaObject{Symbol(\"view5d.View5D\")}(JavaCall.JavaLocalRef(Ptr{Nothing} @0x00000153338b93f8))\n"
     ]
    },
    {
     "data": {
      "text/plain": [
       "JavaCall.JavaObject{Symbol(\"view5d.View5D\")}(JavaCall.JavaLocalRef(Ptr{Nothing} @0x00000153338b93f8))"
      ]
     },
     "metadata": {},
     "output_type": "display_data"
    }
   ],
   "source": [
    "@vv pollen_arr"
   ]
  },
  {
   "cell_type": "code",
   "execution_count": null,
   "metadata": {},
   "outputs": [],
   "source": []
  }
 ],
 "metadata": {
  "kernelspec": {
   "display_name": "Julia 1.10.0",
   "language": "julia",
   "name": "julia-1.10"
  },
  "language_info": {
   "file_extension": ".jl",
   "mimetype": "application/julia",
   "name": "julia",
   "version": "1.10.0"
  }
 },
 "nbformat": 4,
 "nbformat_minor": 2
}
